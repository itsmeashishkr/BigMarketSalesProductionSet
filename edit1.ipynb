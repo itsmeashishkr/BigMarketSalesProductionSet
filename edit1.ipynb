import pandas as pd
import numpy as np
%matplotlib inline
from matplotlib.pylab import rcParams
rcParams['figure.figsize'] = 12, 8
train = pd.read_csv("train_modified.csv")
test = pd.read_csv("test_modified.csv")
print train.shape
train.dtypes
